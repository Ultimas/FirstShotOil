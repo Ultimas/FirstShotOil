{
 "cells": [
  {
   "cell_type": "code",
   "execution_count": 4,
   "id": "f717161c",
   "metadata": {},
   "outputs": [],
   "source": [
    "import pandas as pd\n",
    "from collections import deque\n",
    "from typing import List, Callable"
   ]
  },
  {
   "cell_type": "code",
   "execution_count": 5,
   "id": "bf668f0d",
   "metadata": {},
   "outputs": [],
   "source": [
    "def sliding_window_operation(df: pd.DataFrame, column: str, k: int, operation: Callable[[List[int]], float]) -> List[float]:\n",
    "     \n",
    "\n",
    "#      df: DataFrame containig the data.\n",
    "#      column: the column we wanna do the sliding window on\n",
    "#      k: Size of the sliding window.\n",
    "#      operation: A callable function that takes a list of integers and returns a float.\n",
    "#     :return: A list of results after applying the operation to each sliding window.\n",
    "    if column not in df.columns or k <= 0:\n",
    "        return pd.Series(dtype=float)\n",
    "    arr = df[column].tolist()\n",
    "    result = []\n",
    "    window = deque() # for creating the saaf :))\n",
    "    \n",
    "    \n",
    "    for i in range(len(arr)):\n",
    "        window.append(arr[i])\n",
    "        if len(window) > k:\n",
    "            window.popleft()\n",
    "        \n",
    "        if len(window) == k:\n",
    "            result.append(operation(list(window)))\n",
    "    \n",
    "    # Create a Series for the result with the appropriate index\n",
    "    result_series = pd.Series(result, index=df.index[k-1:])\n",
    "    return result_series\n"
   ]
  },
  {
   "cell_type": "code",
   "execution_count": 6,
   "id": "6fd81cc3",
   "metadata": {},
   "outputs": [],
   "source": [
    "def average_operation(window: list) -> float:\n",
    "    return sum(window) / len(window)"
   ]
  },
  {
   "cell_type": "code",
   "execution_count": 7,
   "id": "26494f66",
   "metadata": {},
   "outputs": [],
   "source": [
    "def variance_operation(window: list) -> float:\n",
    "    mean = sum(window) / len(window)\n",
    "    variance = sum((x - mean) ** 2 for x in window) / len(window)\n",
    "    return variance\n"
   ]
  },
  {
   "cell_type": "code",
   "execution_count": 8,
   "id": "cc211682",
   "metadata": {},
   "outputs": [],
   "source": [
    "def sum_operation(window: list) -> float:\n",
    "    return sum(window)"
   ]
  },
  {
   "cell_type": "code",
   "execution_count": 12,
   "id": "86650a26",
   "metadata": {},
   "outputs": [
    {
     "name": "stdout",
     "output_type": "stream",
     "text": [
      "2    8\n",
      "3    7\n",
      "4    9\n",
      "5    6\n",
      "dtype: int64\n"
     ]
    }
   ],
   "source": [
    "data = {'values': [2, 1, 5, 1, 3, 2]}\n",
    "df = pd.DataFrame(data)\n",
    "k = 3\n",
    "\n",
    "print(sliding_window_operation(df, 'values', k, sum_operation)) "
   ]
  },
  {
   "cell_type": "code",
   "execution_count": null,
   "id": "d9adf4e6",
   "metadata": {},
   "outputs": [],
   "source": []
  }
 ],
 "metadata": {
  "kernelspec": {
   "display_name": "Python 3 (ipykernel)",
   "language": "python",
   "name": "python3"
  },
  "language_info": {
   "codemirror_mode": {
    "name": "ipython",
    "version": 3
   },
   "file_extension": ".py",
   "mimetype": "text/x-python",
   "name": "python",
   "nbconvert_exporter": "python",
   "pygments_lexer": "ipython3",
   "version": "3.11.5"
  }
 },
 "nbformat": 4,
 "nbformat_minor": 5
}
