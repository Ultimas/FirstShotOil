{
 "cells": [
  {
   "cell_type": "code",
   "execution_count": 2,
   "metadata": {},
   "outputs": [],
   "source": [
    "import pandas as pd\n",
    "import numpy as np\n",
    "import matplotlib.pyplot as plt\n",
    "from scipy.signal import find_peaks\n",
    "from utils import *\n",
    "import os"
   ]
  },
  {
   "cell_type": "code",
   "execution_count": 7,
   "metadata": {},
   "outputs": [
    {
     "name": "stdout",
     "output_type": "stream",
     "text": [
      "<class 'pandas.core.frame.DataFrame'>\n",
      "RangeIndex: 1576800 entries, 0 to 1576799\n",
      "Data columns (total 2 columns):\n",
      " #   Column  Non-Null Count    Dtype  \n",
      "---  ------  --------------    -----  \n",
      " 0   time    1576800 non-null  float64\n",
      " 1   y       1576703 non-null  float64\n",
      "dtypes: float64(2)\n",
      "memory usage: 24.1 MB\n",
      "None\n",
      "\n",
      "               time             y\n",
      "count  1.576800e+06  1.576703e+06\n",
      "mean   7.883995e+05  2.047104e+03\n",
      "std    4.551831e+05  7.739114e+02\n",
      "min    0.000000e+00  1.100100e+03\n",
      "25%    3.941998e+05  1.332429e+03\n",
      "50%    7.883995e+05  1.905019e+03\n",
      "75%    1.182599e+06  2.660313e+03\n",
      "max    1.576799e+06  3.846706e+03\n"
     ]
    }
   ],
   "source": [
    "# read the data file\n",
    "example1 = pd.read_csv(\"data/train/example1.csv\",sep=\"\\t\")\n",
    "# adjust the format\n",
    "example1 = example1['y']\n",
    "# general information\n",
    "print(example1.info())\n",
    "# display data info\n",
    "# summary\n",
    "print()\n",
    "print(example1.describe())"
   ]
  },
  {
   "cell_type": "code",
   "execution_count": 5,
   "metadata": {},
   "outputs": [
    {
     "data": {
      "text/plain": [
       "[3000.112732076495,\n",
       " 3000.112732076495,\n",
       " 3000.1184731147428,\n",
       " 3000.1242141529906,\n",
       " 3000.129955191238,\n",
       " 3000.135696229486,\n",
       " 3000.141437267733,\n",
       " 3000.14717830598,\n",
       " 3000.152919344228,\n",
       " 3000.1586603824753,\n",
       " 3000.164401420723,\n",
       " 3000.1701424589705,\n",
       " 3000.1758834972184,\n",
       " 3000.1816245354657,\n",
       " 3000.1873655737136,\n",
       " 3000.193106611961,\n",
       " 3000.198847650209,\n",
       " 3000.204588688456,\n",
       " 3000.210329726704,\n",
       " 3000.2160707649514,\n",
       " 3000.2218118031988,\n",
       " 3000.2275528414466,\n",
       " 3000.233293879694,\n",
       " 3000.2390349179414,\n",
       " 3000.244775956189,\n",
       " 3000.2505169944366,\n",
       " 3000.2562580326844,\n",
       " 3000.261999070932,\n",
       " 3000.267740109179,\n",
       " 3000.273481147427,\n",
       " 3000.2792221856744,\n",
       " 3000.284963223922,\n",
       " 3000.2907042621696,\n",
       " 3000.296445300417,\n",
       " 3000.302186338665,\n",
       " 3000.3079273769126,\n",
       " 3000.31366841516,\n",
       " 3000.3194094534074,\n",
       " 3000.325150491655,\n",
       " 3000.3308915299026,\n",
       " 3000.33663256815,\n",
       " 3000.342373606398,\n",
       " 3000.348114644645,\n",
       " 3000.353855682893,\n",
       " 3000.359596721141,\n",
       " 3000.3653377593882,\n",
       " 3000.3710787976356,\n",
       " 3000.3768198358835,\n",
       " 3000.3825608741313,\n",
       " 3000.3883019123787]"
      ]
     },
     "execution_count": 5,
     "metadata": {},
     "output_type": "execute_result"
    }
   ],
   "source": [
    "m = 50\n",
    "i = 1\n",
    "sum = example1[0]\n",
    "sw = []\n",
    "sw.append(sum)\n",
    "while i < m:\n",
    "    sw.append(sum/i)\n",
    "    sum += example1[i]\n",
    "    i+=1\n",
    "# while i < len(example1)-1:\n",
    "#     sw.append(sum/m)\n",
    "#     sum -= example1[i-m]\n",
    "#     i += 1\n",
    "#     sum += example1[i]\n",
    "sw"
   ]
  }
 ],
 "metadata": {
  "kernelspec": {
   "display_name": "base",
   "language": "python",
   "name": "python3"
  },
  "language_info": {
   "codemirror_mode": {
    "name": "ipython",
    "version": 3
   },
   "file_extension": ".py",
   "mimetype": "text/x-python",
   "name": "python",
   "nbconvert_exporter": "python",
   "pygments_lexer": "ipython3",
   "version": "3.10.9"
  },
  "orig_nbformat": 4
 },
 "nbformat": 4,
 "nbformat_minor": 2
}
